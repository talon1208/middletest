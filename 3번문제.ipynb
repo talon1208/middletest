{
 "cells": [
  {
   "cell_type": "markdown",
   "id": "f66bab92",
   "metadata": {},
   "source": [
    "다음 코드에서는 한화팀과 SK팀간의 2017년 연봉의 평균간에는 유의미한 차이가 존재하는지 t-test로 검정했습니다."
   ]
  },
  {
   "cell_type": "code",
   "execution_count": 5,
   "id": "2242c582",
   "metadata": {},
   "outputs": [],
   "source": [
    "# -*- coding: utf-8 -*-\n",
    "\n",
    "%matplotlib inline\n",
    "\n",
    "import pandas as pd\n",
    "import numpy as np\n",
    "import matplotlib.pyplot as plt\n",
    "\n",
    "import warnings\n",
    "warnings.filterwarnings(\"ignore\")"
   ]
  },
  {
   "cell_type": "code",
   "execution_count": 6,
   "id": "3f28c7ac",
   "metadata": {},
   "outputs": [],
   "source": [
    "# Data Source : http://www.statiz.co.kr/\n",
    "\n",
    "picher_file_path = '../data/picher_stats_2017.csv'\n",
    "batter_file_path = '../data/batter_stats_2017.csv'\n",
    "picher = pd.read_csv(picher_file_path)\n",
    "batter = pd.read_csv(batter_file_path)"
   ]
  },
  {
   "cell_type": "code",
   "execution_count": 7,
   "id": "709aad77",
   "metadata": {},
   "outputs": [
    {
     "name": "stdout",
     "output_type": "stream",
     "text": [
      "SK와 한화의 연봉 평균:\n",
      " 팀명\n",
      "SK    12838.888889\n",
      "한화    21490.000000\n",
      "Name: 연봉(2017), dtype: float64\n",
      "\n",
      "SK와 한화의 연봉 표준편차:\n",
      " 팀명\n",
      "SK    19120.889066\n",
      "한화    28472.089750\n",
      "Name: 연봉(2017), dtype: float64\n",
      "\n",
      "SK와 한화 팀의 연봉 t-test 결과\n",
      "t-statistic: -1.109  p-value: 0.275\n"
     ]
    }
   ],
   "source": [
    "from scipy import stats\n",
    "\n",
    "# SK와 한화 팀 선택\n",
    "team_list = ['SK', '한화']\n",
    "selected_team = picher[picher['팀명'].isin(team_list)]\n",
    "\n",
    "# 팀별 연봉 평균 구하기\n",
    "mean_salary = selected_team[selected_team['연봉(2017)'].notnull()].groupby('팀명')['연봉(2017)'].mean()\n",
    "print(\"SK와 한화의 연봉 평균:\\n\", mean_salary)\n",
    "\n",
    "# 팀별 연봉 표준편차 구하기\n",
    "std_salary = selected_team[selected_team['연봉(2017)'].notnull()].groupby('팀명')['연봉(2017)'].apply(lambda x: np.std(x, ddof=1))\n",
    "print(\"\\nSK와 한화의 연봉 표준편차:\\n\", std_salary)\n",
    "\n",
    "# 두 팀의 t-test 수행\n",
    "t_statistic, p_value = stats.ttest_ind(selected_team[selected_team['팀명'] == 'SK']['연봉(2017)'], selected_team[selected_team['팀명'] == '한화']['연봉(2017)'], equal_var=False)\n",
    "\n",
    "# 결과 출력\n",
    "print(\"\\nSK와 한화 팀의 연봉 t-test 결과\")\n",
    "print(\"t-statistic: %.3f  p-value: %.3f\" % (t_statistic, p_value))\n",
    "#결과 상 p-value가 0.05보다 크기 때문에 유의미한 차이가 없다."
   ]
  }
 ],
 "metadata": {
  "kernelspec": {
   "display_name": "Python 3 (ipykernel)",
   "language": "python",
   "name": "python3"
  },
  "language_info": {
   "codemirror_mode": {
    "name": "ipython",
    "version": 3
   },
   "file_extension": ".py",
   "mimetype": "text/x-python",
   "name": "python",
   "nbconvert_exporter": "python",
   "pygments_lexer": "ipython3",
   "version": "3.10.11"
  }
 },
 "nbformat": 4,
 "nbformat_minor": 5
}
