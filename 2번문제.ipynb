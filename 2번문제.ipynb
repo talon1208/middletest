{
 "cells": [
  {
   "cell_type": "markdown",
   "id": "c4afd0b9",
   "metadata": {},
   "source": [
    "다음 코드에서는 유럽국가들에 대해서 맥주와 와인간의 상관관계는 얼마나 되는지 피어슨상관값을 구했습니다."
   ]
  },
  {
   "cell_type": "code",
   "execution_count": 1,
   "id": "6fbebca3",
   "metadata": {},
   "outputs": [],
   "source": [
    "# -*- coding: utf-8 -*-\n",
    "\n",
    "import pandas as pd\n",
    "import numpy as np\n",
    "import matplotlib.pyplot as plt\n",
    "\n",
    "file_path = '../data/drinks.csv'\n",
    "drinks = pd.read_csv(file_path) # read_csv 함수로 데이터를 Dataframe 형태로 불러옵니다."
   ]
  },
  {
   "cell_type": "code",
   "execution_count": 2,
   "id": "b8462fd1",
   "metadata": {},
   "outputs": [
    {
     "name": "stdout",
     "output_type": "stream",
     "text": [
      "맥주와 와인간의 상관값: 0.29777397884857026\n"
     ]
    }
   ],
   "source": [
    "#  두 변수 간의 상관관계를 구할 수 있는 pearsonr() 함수를 호출한다.\n",
    "from scipy.stats import pearsonr\n",
    "# 유럽 국가들의 데이터만 추출한다.\n",
    "europe = drinks.loc[drinks['continent']=='EU']\n",
    "# 맥주와 와인간의 상관관계를 구한다.\n",
    "beer_wine_corr, p_value = pearsonr(europe['beer_servings'], europe['wine_servings'])\n",
    "print(\"맥주와 와인간의 상관값:\", beer_wine_corr)"
   ]
  }
 ],
 "metadata": {
  "kernelspec": {
   "display_name": "Python 3 (ipykernel)",
   "language": "python",
   "name": "python3"
  },
  "language_info": {
   "codemirror_mode": {
    "name": "ipython",
    "version": 3
   },
   "file_extension": ".py",
   "mimetype": "text/x-python",
   "name": "python",
   "nbconvert_exporter": "python",
   "pygments_lexer": "ipython3",
   "version": "3.10.11"
  }
 },
 "nbformat": 4,
 "nbformat_minor": 5
}
